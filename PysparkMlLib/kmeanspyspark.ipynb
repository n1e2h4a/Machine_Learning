{
 "cells": [
  {
   "cell_type": "code",
   "execution_count": 4,
   "metadata": {},
   "outputs": [
    {
     "name": "stdout",
     "output_type": "stream",
     "text": [
      "songsDataset.csv/songsDataset.csv\n"
     ]
    }
   ],
   "source": [
    "import numpy as np # linear algebra\n",
    "import pandas as pd # data processing, CSV file I/O (e.g. pd.read_csv)\n",
    "\n",
    "# Input data files are available in the \"../input/\" directory.\n",
    "# For example, running this (by clicking run or pressing Shift+Enter) will list all files under the input directory\n",
    "\n",
    "import os\n",
    "for dirname, _, filenames in os.walk('songsDataset.csv'):\n",
    "    for filename in filenames:\n",
    "        print(os.path.join(dirname, filename))\n",
    "\n",
    "# Any results you write to the current directory are saved as output.\n"
   ]
  },
  {
   "cell_type": "code",
   "execution_count": 5,
   "metadata": {},
   "outputs": [],
   "source": [
    "from pyspark.context import SparkContext\n",
    "from pyspark.sql.session import SparkSession\n",
    "from pyspark.sql.types import *\n",
    "from pyspark.ml.feature import VectorAssembler\n",
    "from pyspark.ml.clustering import KMeans\n",
    "import numpy as np\n",
    "import matplotlib.pyplot as plt\n",
    "from pyspark.ml.evaluation import ClusteringEvaluator\n"
   ]
  },
  {
   "cell_type": "code",
   "execution_count": 6,
   "metadata": {},
   "outputs": [],
   "source": [
    "sc = SparkContext('local')\n",
    "spark = SparkSession(sc)\n"
   ]
  },
  {
   "cell_type": "markdown",
   "metadata": {},
   "source": [
    "# To read the data, we first need to desin an scheme with appropriate data types, matching with CSV file inputs. Our dataset has three fields namely userID, songID, and rating.\n",
    "\n"
   ]
  },
  {
   "cell_type": "code",
   "execution_count": 7,
   "metadata": {},
   "outputs": [],
   "source": [
    "input_schema = StructType([\n",
    "    StructField('userID',IntegerType(), False),\n",
    "    StructField('songID',IntegerType(), False),\n",
    "])\n",
    "data = spark.read.csv(\n",
    "    'songsDataset.csv', header=True, schema=input_schema\n",
    ").cache()\n"
   ]
  },
  {
   "cell_type": "code",
   "execution_count": 8,
   "metadata": {},
   "outputs": [
    {
     "name": "stdout",
     "output_type": "stream",
     "text": [
      "root\n",
      " |-- userID: integer (nullable = true)\n",
      " |-- songID: integer (nullable = true)\n",
      "\n"
     ]
    }
   ],
   "source": [
    "data.printSchema()\n"
   ]
  },
  {
   "cell_type": "code",
   "execution_count": 9,
   "metadata": {},
   "outputs": [
    {
     "name": "stdout",
     "output_type": "stream",
     "text": [
      "+------+------+\n",
      "|userID|songID|\n",
      "+------+------+\n",
      "|     0|  7171|\n",
      "|     0|  8637|\n",
      "|     0| 21966|\n",
      "|     0| 35821|\n",
      "|     0| 82446|\n",
      "|     0| 90409|\n",
      "|     0|107410|\n",
      "|     0|131919|\n",
      "|     0|132685|\n",
      "|     0|136507|\n",
      "+------+------+\n",
      "only showing top 10 rows\n",
      "\n"
     ]
    }
   ],
   "source": [
    "data.show(10)\n"
   ]
  },
  {
   "cell_type": "code",
   "execution_count": 10,
   "metadata": {},
   "outputs": [
    {
     "name": "stdout",
     "output_type": "stream",
     "text": [
      "+--------------+\n",
      "|      features|\n",
      "+--------------+\n",
      "|  [0.0,7171.0]|\n",
      "|  [0.0,8637.0]|\n",
      "| [0.0,21966.0]|\n",
      "| [0.0,35821.0]|\n",
      "| [0.0,82446.0]|\n",
      "| [0.0,90409.0]|\n",
      "|[0.0,107410.0]|\n",
      "|[0.0,131919.0]|\n",
      "|[0.0,132685.0]|\n",
      "|[0.0,136507.0]|\n",
      "|  [1.0,3342.0]|\n",
      "|  [1.0,7522.0]|\n",
      "| [1.0,25363.0]|\n",
      "| [1.0,38997.0]|\n",
      "| [1.0,43685.0]|\n",
      "| [1.0,45488.0]|\n",
      "| [1.0,62770.0]|\n",
      "|[1.0,109450.0]|\n",
      "|[1.0,122506.0]|\n",
      "|[1.0,130621.0]|\n",
      "+--------------+\n",
      "only showing top 20 rows\n",
      "\n"
     ]
    }
   ],
   "source": [
    "#We transform our features and update our data.\n",
    "\n",
    "vecAssembler = VectorAssembler(inputCols=['userID', 'songID'], outputCol=\"features\")\n",
    "data = vecAssembler.transform(data).select('features')\n",
    "data.show()\n"
   ]
  },
  {
   "cell_type": "code",
   "execution_count": 14,
   "metadata": {},
   "outputs": [],
   "source": [
    "#Now, we have vectorised form of dataset. The first step of kmeans clustering is to exact the number of clusters. We need to know the value of k. For that, we, keep minimum number to 2 and check the cost incurred with various various of k. We check for range [2, 22]\n",
    "\n",
    "cost = np.zeros(22)\n",
    "for k in range(2,22):\n",
    "    kmeans = KMeans().setK(k).setSeed(1).setFeaturesCol(\"features\")\n",
    "    model = kmeans.fit(data.sample(False,0.1))\n",
    "    cost[k] = model.computeCost(data)\n"
   ]
  },
  {
   "cell_type": "code",
   "execution_count": 12,
   "metadata": {},
   "outputs": [
    {
     "data": {
      "text/plain": [
       "Text(0, 0.5, 'cost')"
      ]
     },
     "execution_count": 12,
     "metadata": {},
     "output_type": "execute_result"
    },
    {
     "data": {
      "image/png": "[encoded data removed]",
      "text/plain": [
       "<Figure size 720x504 with 1 Axes>"
      ]
     },
     "metadata": {
      "needs_background": "light"
     },
     "output_type": "display_data"
    }
   ],
   "source": [
    "#Cost is initialized as an array with 22 values. Then, we fit and compute cost to build a list of costs with varying number of clusters.\n",
    "\n",
    "fig, ax = plt.subplots(1,1, figsize =(10,7))\n",
    "ax.plot(range(2,22),cost[2:22])\n",
    "ax.set_xlabel('k')\n",
    "ax.set_ylabel('cost')\n"
   ]
  },
  {
   "cell_type": "code",
   "execution_count": null,
   "metadata": {},
   "outputs": [],
   "source": []
  }
 ],
 "metadata": {
  "kernelspec": {
   "display_name": "Python 3",
   "language": "python",
   "name": "python3"
  },
  "language_info": {
   "codemirror_mode": {
    "name": "ipython",
    "version": 3
   },
   "file_extension": ".py",
   "mimetype": "text/x-python",
   "name": "python",
   "nbconvert_exporter": "python",
   "pygments_lexer": "ipython3",
   "version": "3.6.9"
  }
 },
 "nbformat": 4,
 "nbformat_minor": 4
}
